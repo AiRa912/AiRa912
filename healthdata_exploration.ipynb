{
  "nbformat": 4,
  "nbformat_minor": 0,
  "metadata": {
    "colab": {
      "provenance": [],
      "authorship_tag": "ABX9TyOcWD2+P/rpw6B+mQYtKSp/",
      "include_colab_link": true
    },
    "kernelspec": {
      "name": "python3",
      "display_name": "Python 3"
    },
    "language_info": {
      "name": "python"
    }
  },
  "cells": [
    {
      "cell_type": "markdown",
      "metadata": {
        "id": "view-in-github",
        "colab_type": "text"
      },
      "source": [
        "<a href=\"https://colab.research.google.com/github/AiRa912/AiRa912/blob/main/healthdata_exploration.ipynb\" target=\"_parent\"><img src=\"https://colab.research.google.com/assets/colab-badge.svg\" alt=\"Open In Colab\"/></a>"
      ]
    },
    {
      "cell_type": "code",
      "execution_count": 2,
      "metadata": {
        "colab": {
          "base_uri": "https://localhost:8080/"
        },
        "id": "1mWdJRLEedbT",
        "outputId": "0a666a1c-99ef-42ee-bbb0-4b40361c4b67"
      },
      "outputs": [
        {
          "output_type": "stream",
          "name": "stdout",
          "text": [
            "Path to dataset1 files: /kaggle/input/kuc-hackathon-winter-2018\n",
            "Path to dataset2 files: /kaggle/input/drugreview\n"
          ]
        }
      ],
      "source": [
        "import kagglehub\n",
        "\n",
        "# Download latest version\n",
        "path1 = kagglehub.dataset_download(\"jessicali9530/kuc-hackathon-winter-2018\")\n",
        "\n",
        "print(\"Path to dataset1 files:\", path1)\n",
        "\n",
        "path2 = kagglehub.dataset_download(\"mohamedabdelwahabali/drugreview\")\n",
        "\n",
        "print(\"Path to dataset2 files:\", path2)"
      ]
    },
    {
      "cell_type": "code",
      "source": [],
      "metadata": {
        "id": "Q7F18SG7fEZL"
      },
      "execution_count": null,
      "outputs": []
    }
  ]
}